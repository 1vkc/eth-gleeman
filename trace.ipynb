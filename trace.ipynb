{
 "cells": [
  {
   "cell_type": "code",
   "execution_count": 1,
   "metadata": {},
   "outputs": [],
   "source": [
    "import os\n",
    "from web3 import Web3\n",
    "from chain.decoder import ABIDecoder\n",
    "from chain.tracer import visit_trace_frame\n",
    "from typing import Callable, Dict\n",
    "from web3.datastructures import (\n",
    "    AttributeDict,\n",
    ")\n",
    "import json\n",
    "from chain.tracer import TxTracer\n",
    "from chain.token import TokenProvider\n",
    "from chain.normalizer import TraceNormalizer\n",
    "\n",
    "decoder = ABIDecoder()\n",
    "tracer = TxTracer()\n",
    "tokenProvider = TokenProvider()\n",
    "\n",
    "w3 = Web3(Web3.HTTPProvider(os.environ[\"ETHER_HTTP_URL\"]))\n"
   ]
  },
  {
   "cell_type": "code",
   "execution_count": null,
   "metadata": {},
   "outputs": [],
   "source": [
    "\n",
    "# num = w3.eth.block_number\n",
    "\n",
    "# print(f\"backfill from {num - 10}, {num}\")\n",
    "# # Web3.to_hex(18190281)\n",
    "# # tracer.trace_block(18190293)\n",
    "\n",
    "# tracer.back_fill_block(num - 10, num)"
   ]
  },
  {
   "cell_type": "code",
   "execution_count": 2,
   "metadata": {},
   "outputs": [],
   "source": [
    "def parse_tx(block, hash):\n",
    "    trace_path = f\"data/trace/{block}/{hash}.json\"\n",
    "    with open(trace_path) as f:\n",
    "        tjson = f.read()\n",
    "    tx_trace = AttributeDict.recursive(json.loads(tjson))\n",
    "\n",
    "    tn = TraceNormalizer(w3, tx_trace)\n",
    "    tn.visit_trace()\n"
   ]
  },
  {
   "cell_type": "code",
   "execution_count": 3,
   "metadata": {},
   "outputs": [
    {
     "name": "stdout",
     "output_type": "stream",
     "text": [
      "argonaut => atlas.0x0938b20b\n",
      "atlas => centurion.0x9cb2dade\n",
      "atlas => chronos.transferFrom(sender=argonaut,recipient=dragoon,amount=248088055175560597542440)\n",
      "atlas => dragoon.swap(amount0Out=0,amount1Out=27379708648640084,to=atlas,data=bytes)\n",
      "dragoon => token_WETH.transfer(recipient=atlas,amount=27379708648640084)\n",
      "atlas => token_WETH.transfer(recipient=centurion,amount=27379708648640084)\n",
      "atlas => centurion.withdraw(receiver=token_WETH,amount=27379708648640084)\n",
      "centurion => token_WETH.withdraw(_amount=27379708648640084)\n",
      "token_WETH {27379708648640084 ether} => centurion \n",
      "centurion {27379708648640084 ether} => atlas \n",
      "atlas {82139125945920 ether} => galahad \n",
      "atlas {27297569522694164 ether} => argonaut \n"
     ]
    }
   ],
   "source": [
    "# v2 swap\n",
    "parse_tx(18183198, \"0xd3365f1fe313c9942d2730694d9787c9c307b480cd383dba5b9c7f891cc68320\")"
   ]
  },
  {
   "cell_type": "code",
   "execution_count": 2,
   "metadata": {},
   "outputs": [
    {
     "name": "stdout",
     "output_type": "stream",
     "text": [
      "argonaut => atlas.swapExactETHForTokens(amountOutMin=13846600923975796559,path=['0xC02aaA39b223FE8D0A0e5C4F27eAD9083C756Cc2', '0x7Fc66500c84A76Ad7e9c93437bFc5Ac33E2DDaE9'],to=argonaut,deadline=1697359671)\n",
      "atlas => token_WETH.deposit()\n",
      "atlas => token_WETH.transfer(recipient=chronos,amount=580093856500020300)\n",
      "atlas => chronos.swap(amount0Out=13846600923975796559,amount1Out=0,to=argonaut,data=bytes)\n",
      "chronos => token_AAVE.transfer(recipient=argonaut,amount=13846600923975796559)\n"
     ]
    }
   ],
   "source": [
    "# v2 swap\n",
    "\n",
    "parse_tx(18354610, \"0xb610aabb93e57163921c70dbe4e018c3b9de0bda6886ed2d02e974ad50691617\")"
   ]
  },
  {
   "cell_type": "code",
   "execution_count": 3,
   "metadata": {},
   "outputs": [
    {
     "name": "stdout",
     "output_type": "stream",
     "text": [
      "exodus => galahad.fulfillOrder(={'parameters': {'offerer': '0x3858E6491420a8Fb6011fa36a56690AA1628B70f', 'zone': '0x004C00500000aD104D7DBd00e3ae0A5C00560C00', 'offer': [{'itemType': 2, 'token': '0xAB1832d75dC39E7B6d27b0a517075997895C430B', 'identifierOrCriteria': 162, 'startAmount': 1, 'endAmount': 1}], 'consideration': [{'itemType': 0, 'token': '0x0000000000000000000000000000000000000000', 'identifierOrCriteria': 0, 'startAmount': 640500000000000, 'endAmount': 640500000000000, 'recipient': '0x3858E6491420a8Fb6011fa36a56690AA1628B70f'}, {'itemType': 0, 'token': '0x0000000000000000000000000000000000000000', 'identifierOrCriteria': 0, 'startAmount': 17500000000000, 'endAmount': 17500000000000, 'recipient': '0x0000a26b00c1F0DF003000390027140000fAa719'}, {'itemType': 0, 'token': '0x0000000000000000000000000000000000000000', 'identifierOrCriteria': 0, 'startAmount': 14000000000000, 'endAmount': 14000000000000, 'recipient': '0xd71afE6B899E166775614d0467956c2CBEbe4658'}, {'itemType': 0, 'token': '0x0000000000000000000000000000000000000000', 'identifierOrCriteria': 0, 'startAmount': 28000000000000, 'endAmount': 28000000000000, 'recipient': '0x813f259230A6D2adac0BF2653343308f6dc6c154'}], 'orderType': 0, 'startTime': 1696238917, 'endTime': 1698920917, 'zoneHash': b'\\x00\\x00\\x00\\x00\\x00\\x00\\x00\\x00\\x00\\x00\\x00\\x00\\x00\\x00\\x00\\x00\\x00\\x00\\x00\\x00\\x00\\x00\\x00\\x00\\x00\\x00\\x00\\x00\\x00\\x00\\x00\\x00', 'salt': 24446860302761739304752683030156737591518664810215442929814706194354888432390, 'conduitKey': b'\\x00\\x00\\x00{\\x02#\\x00\\x91\\xa7\\xed\\x01#\\x00r\\xf7\\x00j\\x00M`\\xa8\\xd4\\xe7\\x1dY\\x9b\\x81\\x04%\\x0f\\x00\\x00', 'totalOriginalConsiderationItems': 4}, 'signature': b\"\\x82I4\\xd9\\xbc\\xc4|\\x95:\\x91H\\x03\\xcaq=*;X)\\x91\\xd0\\xad\\x10\\x87\\x8f\\x06\\xaaPw\\xe8\\xb8C\\x85\\x0eg\\x8f\\xcdM\\x10\\xd1\\xe3\\x91\\x06,\\xe0?\\xf0~c\\x16\\x81\\xd7>\\x1bt\\x87\\xf1q\\xe1\\xda\\x8fA\\x89\\xa7\\x00\\x00\\x16\\x8ft:\\x11\\xef\\xe0\\xe8\\x0c\\x1e\\x04&\\x9d\\xc5k\\x00\\xf0\\x85\\xf9|X^\\xa6f;\\xce\\x80\\x1c\\nr\\xef\\x8d\\x01\\xc8Vv\\x1f\\x8d\\r\\x1b\\xc7\\xb4\\xc4\\x89)\\xb2>\\xba\\xf8\\x1c\\xe3A\\x80@\\xafS\\xff\\x97\\x18\\xeb\\xc5@\\xd1\\xf1\\x04\\xef \\x9d\\x07;\\xf0\\x1f\\xff\\x8a\\x99i\\x12'\\xc8\\x7f\\xad\\xado\\xee\\xc6\\x9d\\x83o\\x1a\\x19\\x9f\\xf5\\x19\\xf4\\x9d\\xac\\xaf\\x9bM\\xe4\\x0ba\\xd2\\xd0\\xde\\x1fq\\x81\\x94;\\xa4w\\\\\\xb2\\x1a\\xc6{\\xadU\\x8f\\x9c\\x17d\\x7f\\xc3\\xb7\\x92{z\\x16l\\xffzQ\\xc2N\\xd8G'\\x0bm\\xb0\\x82\\xd4\\xfa\\xb8R\\x99\\x94\\xaapsT!hQ\\x88K\\x07kD\\xc6p\\xfaxN\\xc3\\xad\\xdf\\xf9\\xffQ;(\\x02\\x1a\\xcb\\xe5\\xbbJ\\xc9\\xb0i)+yk\\x00\\x8c\\x84P2\\xe9\"},fulfillerConduitKey=bytes)\n",
      "galahad => goliath 640500000000000 ETH\n",
      "galahad => griffin 17500000000000 ETH\n",
      "galahad => hyperion 14000000000000 ETH\n",
      "galahad => inferno 28000000000000 ETH\n",
      "galahad => kraken.execute(transfers=[{'itemType': 2, 'token': '0xAB1832d75dC39E7B6d27b0a517075997895C430B', 'from': '0x3858E6491420a8Fb6011fa36a56690AA1628B70f', 'to': '0x8E660fec10DB755e6a954bc5e8c698f7f99f1911', 'identifier': 162, 'amount': 1}])\n",
      "kraken => lynx.transferFrom(sender=goliath,recipient=exodus,amount=162)\n"
     ]
    }
   ],
   "source": [
    "# nft\n",
    "parse_tx(18354834, \"0xbabffe9eef3436dca06622836a58f5f8c2d042cb12968bcd29c8aaae87e6ebac\")"
   ]
  },
  {
   "cell_type": "code",
   "execution_count": 10,
   "metadata": {},
   "outputs": [
    {
     "name": "stdout",
     "output_type": "stream",
     "text": [
      "\n",
      "0x538f3af48dbd028f9f5267247721406c0fe88e80a124e11cc250a09686fb7c80\n",
      "nova {353190000000000000000 ether} => oblivion.addLiquidityETH(token=token_USDC,amountTokenDesired=473799508662,amountTokenMin=450109533229,amountETHMin=335530500000000000000,to=nova,deadline=1655088426)\n",
      "oblivion => token_USDC.transferFrom(sender=nova,recipient=onyx,amount=473799508662)\n",
      "oblivion {353189517640682618581 ether} => token_WETH.deposit()\n",
      "oblivion => token_WETH.transfer(recipient=onyx,amount=353189517640682618581)\n",
      "oblivion => onyx.mint(to=nova)\n",
      "oblivion {482359317381419 ether} => nova \n",
      "\n",
      "0xe3b8feefb51ef68ffe21f22ef2e759f6b0b8902a9699713cea593227910a3f04\n",
      "orion => oblivion.addLiquidity(tokenA=token_DAI,tokenB=token_USDC,amountADesired=51574073557671254232097,amountBDesired=51533679456,amountAMin=51316203189882897960936,amountBMin=51276011059,to=orion,deadline=1655379576)\n",
      "oblivion => token_DAI.transferFrom(sender=orion,recipient=phantom,amount=51573506280572233143441)\n",
      "oblivion => token_USDC.transferFrom(sender=orion,recipient=phantom,amount=51533679456)\n",
      "oblivion => phantom.mint(to=orion)\n",
      "\n",
      "0x9cf51f0e4c53bc9f3bdb56af95d13e0768936f95fa00dc48f95efc53dcf7b40b\n",
      "phoenix {10415223530993951539670 ether} => oblivion.addLiquidityETH(token=token_USDT,amountTokenDesired=17333333635773,amountTokenMin=17331600302409,amountETHMin=10414182008640852144516,to=phoenix,deadline=1696284119)\n",
      "oblivion => token_USDT.transferFrom(sender=phoenix,recipient=pulsar,amount=17333333635773)\n",
      "oblivion {10415223530993951539670 ether} => token_WETH.deposit()\n",
      "oblivion => token_WETH.transfer(recipient=pulsar,amount=10415223530993951539670)\n",
      "oblivion => pulsar.mint(to=phoenix)\n"
     ]
    }
   ],
   "source": [
    "# v2 add liquidity\n",
    "print(\"\\n0x538f3af48dbd028f9f5267247721406c0fe88e80a124e11cc250a09686fb7c80\")\n",
    "parse_tx(14953527, \"0x538f3af48dbd028f9f5267247721406c0fe88e80a124e11cc250a09686fb7c80\")\n",
    "\n",
    "print(\"\\n0xe3b8feefb51ef68ffe21f22ef2e759f6b0b8902a9699713cea593227910a3f04\")\n",
    "parse_tx(14972995, \"0xe3b8feefb51ef68ffe21f22ef2e759f6b0b8902a9699713cea593227910a3f04\")\n",
    "\n",
    "\n",
    "print(\"\\n0x9cf51f0e4c53bc9f3bdb56af95d13e0768936f95fa00dc48f95efc53dcf7b40b\")\n",
    "parse_tx(18265558, \"0x9cf51f0e4c53bc9f3bdb56af95d13e0768936f95fa00dc48f95efc53dcf7b40b\")\n"
   ]
  },
  {
   "cell_type": "code",
   "execution_count": 6,
   "metadata": {},
   "outputs": [
    {
     "name": "stdout",
     "output_type": "stream",
     "text": [
      "\u0000x4661475ef4d3405b080509df9f11490fcaef185afc23d21dfad4ce7efc18fc1f\n",
      "goliath {31640345545453247180 ether} => griffin.multicall(data=[b'!\\x9f]\\x17\\x00\\x00\\x00\\x00\\x00\\x00\\x00\\x00\\x00\\x00\\x00\\x00\\x00\\x00\\x00\\x00\\x00\\x00\\x00\\x00\\x00\\x00\\x00\\x00\\x00\\x00\\x00\\x00\\x00\\x07\\xe7`\\x00\\x00\\x00\\x00\\x00\\x00\\x00\\x00\\x00\\x00\\x00\\x00\\x00\\x00\\x00\\x00\\x00\\x00\\x00\\x00\\x00\\x00\\x00\\x00\\x00\\x00\\x00\\x01\\xb3\\xea\\xfc\\xd9\\x00\\x00\\x00\\x00\\x00\\x00\\x00\\x00\\x00\\x00\\x00\\x00\\x00\\x00\\x00\\x00\\x00\\x00\\x00\\x00\\x00\\x00\\x00\\x01\\xb7\\x19\\x16\\xa2\\xc7Z\\x9a\\xcc\\x00\\x00\\x00\\x00\\x00\\x00\\x00\\x00\\x00\\x00\\x00\\x00\\x00\\x00\\x00\\x00\\x00\\x00\\x00\\x00\\x00\\x00\\x00\\x00\\x00\\x00\\x00\\x01\\x99\\x11\\xe7\\xe4\\x00\\x00\\x00\\x00\\x00\\x00\\x00\\x00\\x00\\x00\\x00\\x00\\x00\\x00\\x00\\x00\\x00\\x00\\x00\\x00\\x00\\x00\\x00\\x01\\xb3\\xd7\\xd0a9P\\xe3\\x93\\x00\\x00\\x00\\x00\\x00\\x00\\x00\\x00\\x00\\x00\\x00\\x00\\x00\\x00\\x00\\x00\\x00\\x00\\x00\\x00\\x00\\x00\\x00\\x00\\x00\\x00\\x00\\x00d\\xa0\\x87\\xf3', b'\\x12!\\x0e\\x8a'])\n",
      "griffin => hyperion.mint(recipient=griffin,tickLower=199310,tickUpper=200870,amount=20562131091425486,data=bytes)\n",
      "hyperion => griffin.uniswapV3MintCallback(amount0Owed=7313489113,amount1Owed=31640345545453247180,data=bytes)\n",
      "griffin => token_USDC.transferFrom(sender=goliath,recipient=hyperion,amount=7313489113)\n",
      "griffin {31640345545453247180 ether} => token_WETH.deposit()\n",
      "griffin => token_WETH.transfer(recipient=hyperion,amount=31640345545453247180)\n",
      "\n",
      "0x1e5c80c07a9359a2dea9b4a30ddfdf77ed7a765b239c5839a02c7ec5ddee6571\n",
      "kraken => griffin.increaseLiquidity(params={'tokenId': 459849, 'amount0Desired': 1480302000000, 'amount1Desired': 2153175489000, 'amount0Min': 0, 'amount1Min': 0, 'deadline': 627375991115435655726771780113292432360887089446})\n",
      "griffin => lynx.mint(recipient=griffin,tickLower=1,tickUpper=2,amount=72673051316266566,data=bytes)\n",
      "lynx => griffin.uniswapV3MintCallback(amount0Owed=1480302000000,amount1Owed=2153175488588,data=bytes)\n",
      "griffin => token_USDC.transferFrom(sender=kraken,recipient=lynx,amount=1480302000000)\n",
      "griffin => token_USDT.transferFrom(sender=kraken,recipient=lynx,amount=2153175488588)\n",
      "\n",
      "0x6d461f955e86b49d49abad652e274f7f1c3a6b6d531794b567734b67b77fb6ee\n",
      "nomad {1516733040839763754557 ether} => griffin.multicall(data=[b'!\\x9f]\\x17\\x00\\x00\\x00\\x00\\x00\\x00\\x00\\x00\\x00\\x00\\x00\\x00\\x00\\x00\\x00\\x00\\x00\\x00\\x00\\x00\\x00\\x00\\x00\\x00\\x00\\x00\\x00\\x00\\x00\\x08\\x97\\xa0\\x00\\x00\\x00\\x00\\x00\\x00\\x00\\x00\\x00\\x00\\x00\\x00\\x00\\x00\\x00\\x00\\x00\\x00\\x00\\x00\\x00\\x00\\x00\\x00\\x00\\x00\\x01\\xd2;\\x91tK\\x00\\x00\\x00\\x00\\x00\\x00\\x00\\x00\\x00\\x00\\x00\\x00\\x00\\x00\\x00\\x00\\x00\\x00\\x00\\x00\\x00\\x00\\x00R8\\xe68\\xa5\\xd0(\\xfe=\\x00\\x00\\x00\\x00\\x00\\x00\\x00\\x00\\x00\\x00\\x00\\x00\\x00\\x00\\x00\\x00\\x00\\x00\\x00\\x00\\x00\\x00\\x00\\x00\\x00\\x00\\x01\\xb8\\x8fX\\xf5l\\x00\\x00\\x00\\x00\\x00\\x00\\x00\\x00\\x00\\x00\\x00\\x00\\x00\\x00\\x00\\x00\\x00\\x00\\x00\\x00\\x00\\x00\\x00NRZ\\xfc<\\xc5\\xdfy\\xc0\\x00\\x00\\x00\\x00\\x00\\x00\\x00\\x00\\x00\\x00\\x00\\x00\\x00\\x00\\x00\\x00\\x00\\x00\\x00\\x00\\x00\\x00\\x00\\x00\\x00\\x00\\x00\\x00d\\xffw\\x83', b'\\x12!\\x0e\\x8a'])\n",
      "griffin => hyperion.mint(recipient=griffin,tickLower=201840,tickUpper=203850,amount=1125302380939539457,data=bytes)\n",
      "hyperion => griffin.uniswapV3MintCallback(amount0Owed=1991772012101,amount1Owed=1516733040839763753425,data=bytes)\n",
      "griffin => token_USDC.transferFrom(sender=nomad,recipient=hyperion,amount=1991772012101)\n",
      "griffin {1516733040839763753425 ether} => token_WETH.deposit()\n",
      "griffin => token_WETH.transfer(recipient=hyperion,amount=1516733040839763753425)\n",
      "griffin {1132 ether} => nomad \n"
     ]
    }
   ],
   "source": [
    "# v3 add liquidity\n",
    "print(\"\\n0x4661475ef4d3405b080509df9f11490fcaef185afc23d21dfad4ce7efc18fc1f\")\n",
    "parse_tx(17601335, \"0x4661475ef4d3405b080509df9f11490fcaef185afc23d21dfad4ce7efc18fc1f\")\n",
    "\n",
    "print(\"\\n0x1e5c80c07a9359a2dea9b4a30ddfdf77ed7a765b239c5839a02c7ec5ddee6571\")\n",
    "parse_tx(18349861, \"0x1e5c80c07a9359a2dea9b4a30ddfdf77ed7a765b239c5839a02c7ec5ddee6571\")\n",
    "\n",
    "print(\"\\n0x6d461f955e86b49d49abad652e274f7f1c3a6b6d531794b567734b67b77fb6ee\")\n",
    "parse_tx(18115334, \"0x6d461f955e86b49d49abad652e274f7f1c3a6b6d531794b567734b67b77fb6ee\")"
   ]
  },
  {
   "cell_type": "code",
   "execution_count": null,
   "metadata": {},
   "outputs": [],
   "source": [
    "parse_tx(18349861, \"0x1e5c80c07a9359a2dea9b4a30ddfdf77ed7a765b239c5839a02c7ec5ddee6571\")"
   ]
  },
  {
   "cell_type": "code",
   "execution_count": null,
   "metadata": {},
   "outputs": [],
   "source": [
    "def decode_block(num: int):\n",
    "    os.makedirs(f\"data/decoded/{num}\", exist_ok=True)\n",
    "\n",
    "    w = os.walk(f\"data/trace/{num}\")\n",
    "    for path, _, fs in w:\n",
    "        for fp in fs:\n",
    "            tx_hash = os.path.splitext(fp)[0]\n",
    "            print(f\"decode tx {tx_hash}\")\n",
    "            with open(os.path.join(path, fp)) as f:\n",
    "                trace_json = f.read()\n",
    "                tx_trace = AttributeDict.recursive(json.loads(trace_json))\n",
    "\n",
    "                decoded_traces = []\n",
    "                def parse_trace(trace: AttributeDict):\n",
    "                    decoded = decoder.parse_trace(trace.input)\n",
    "                    if decoded:\n",
    "                        decoded_traces.append(decoded)\n",
    "                        print(decoded)\n",
    "\n",
    "                visit_trace_frame(tx_trace, parse_trace)\n",
    "\n",
    "                if len(decoded_traces) != 0:\n",
    "                    with open(f\"data/decoded/{num}/{tx_hash}.txt\", 'x') as wf:\n",
    "                        wf.write('\\n'.join([str(d) for d in decoded_traces]))\n",
    "\n",
    "decode_block(18190460)"
   ]
  }
 ],
 "metadata": {
  "kernelspec": {
   "display_name": ".venv",
   "language": "python",
   "name": "python3"
  },
  "language_info": {
   "codemirror_mode": {
    "name": "ipython",
    "version": 3
   },
   "file_extension": ".py",
   "mimetype": "text/x-python",
   "name": "python",
   "nbconvert_exporter": "python",
   "pygments_lexer": "ipython3",
   "version": "3.8.10"
  },
  "orig_nbformat": 4
 },
 "nbformat": 4,
 "nbformat_minor": 2
}
