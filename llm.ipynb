{
 "cells": [
  {
   "cell_type": "code",
   "execution_count": 1,
   "id": "050bde04",
   "metadata": {
    "ExecuteTime": {
     "end_time": "2023-10-15T07:03:28.717625Z",
     "start_time": "2023-10-15T07:03:28.684797Z"
    }
   },
   "outputs": [
    {
     "data": {
      "text/plain": [
       "True"
      ]
     },
     "execution_count": 1,
     "metadata": {},
     "output_type": "execute_result"
    }
   ],
   "source": [
    "from dotenv import load_dotenv\n",
    "import os\n",
    "load_dotenv()"
   ]
  },
  {
   "cell_type": "markdown",
   "id": "c96007fa",
   "metadata": {},
   "source": [
    "## LangChain\n",
    "\n",
    "- [Introduction | 🦜️🔗 Langchain](https://python.langchain.com/docs/get_started/introduction)\n",
    "- [OpenAI | 🦜️🔗 Langchain](https://python.langchain.com/docs/integrations/chat/openai)"
   ]
  },
  {
   "cell_type": "code",
   "execution_count": 2,
   "id": "1bd0fe92",
   "metadata": {
    "ExecuteTime": {
     "end_time": "2023-10-15T07:03:30.622432Z",
     "start_time": "2023-10-15T07:03:29.633887Z"
    }
   },
   "outputs": [],
   "source": [
    "from langchain.chat_models import AzureChatOpenAI, ChatOpenAI\n",
    "from langchain.schema import HumanMessage\n",
    "from langchain.callbacks import get_openai_callback"
   ]
  },
  {
   "cell_type": "markdown",
   "id": "1e0bdb3d",
   "metadata": {},
   "source": [
    "### LangChain with OpenAI API"
   ]
  },
  {
   "cell_type": "code",
   "execution_count": 3,
   "id": "0dad919e",
   "metadata": {
    "ExecuteTime": {
     "end_time": "2023-10-15T07:03:31.655766Z",
     "start_time": "2023-10-15T07:03:31.290874Z"
    }
   },
   "outputs": [],
   "source": [
    "API_KEY = os.getenv(\"OPENAI_API_KEY\")\n",
    "ORGANIZATION = os.getenv(\"OPENAI_ORGANIZATION\")\n",
    "\n",
    "# https://python.langchain.com/docs/integrations/chat/openai\n",
    "# https://api.python.langchain.com/en/latest/chat_models/langchain.chat_models.openai.ChatOpenAI.html#langchain.chat_models.openai.ChatOpenAI\n",
    "model = ChatOpenAI(\n",
    "    openai_api_key=API_KEY,\n",
    "    openai_organization=ORGANIZATION,\n",
    "    model_name=\"gpt-3.5-turbo\",\n",
    "    verbose=True\n",
    ")\n",
    "\n",
    "# model"
   ]
  },
  {
   "cell_type": "code",
   "execution_count": 4,
   "id": "3d807925",
   "metadata": {
    "ExecuteTime": {
     "end_time": "2023-10-15T07:03:37.363720Z",
     "start_time": "2023-10-15T07:03:32.478374Z"
    }
   },
   "outputs": [
    {
     "name": "stdout",
     "output_type": "stream",
     "text": [
      "Total Cost (USD): $0.000000\n"
     ]
    },
    {
     "data": {
      "text/plain": [
       "AIMessage(content='我喜欢编程。 (Wǒ xǐhuān biānchéng.)', additional_kwargs={})"
      ]
     },
     "execution_count": 4,
     "metadata": {},
     "output_type": "execute_result"
    }
   ],
   "source": [
    "with get_openai_callback() as cb:\n",
    "    response = model(\n",
    "        [\n",
    "            HumanMessage(\n",
    "                content=\"Translate this sentence from English to Chinese. I love programming.\"\n",
    "            )\n",
    "        ]\n",
    "    )\n",
    "    print(f\"Total Cost (USD): ${format(cb.total_cost, '.6f')}\") # without specifying the model version, flat-rate 0.002 USD per 1k input and output tokens is used\n",
    "\n",
    "response"
   ]
  },
  {
   "cell_type": "markdown",
   "id": "2a749923",
   "metadata": {},
   "source": [
    "### LangChain with Azure API"
   ]
  },
  {
   "cell_type": "code",
   "execution_count": 5,
   "id": "c1ddddcf",
   "metadata": {
    "ExecuteTime": {
     "end_time": "2023-10-15T07:03:39.355350Z",
     "start_time": "2023-10-15T07:03:39.347507Z"
    }
   },
   "outputs": [],
   "source": [
    "BASE_URL = os.getenv(\"AZURE_OPENAI_ENDPOINT\")\n",
    "API_KEY = os.getenv(\"AZURE_OPENAI_KEY\")\n",
    "DEPLOYMENT_NAME = os.getenv(\"AZURE_OPENAI_DEPLOYMENT_NAME\")\n",
    "\n",
    "model = AzureChatOpenAI(\n",
    "    openai_api_base=BASE_URL,\n",
    "    openai_api_version=\"2023-05-15\",\n",
    "    deployment_name=DEPLOYMENT_NAME,\n",
    "    openai_api_key=API_KEY,\n",
    "    openai_api_type=\"azure\",\n",
    ")\n",
    "\n",
    "# model"
   ]
  },
  {
   "cell_type": "code",
   "execution_count": 6,
   "id": "39f367c8",
   "metadata": {
    "ExecuteTime": {
     "end_time": "2023-10-15T07:03:41.313947Z",
     "start_time": "2023-10-15T07:03:39.476816Z"
    }
   },
   "outputs": [
    {
     "name": "stdout",
     "output_type": "stream",
     "text": [
      "Total Cost (USD): $0.000000\n"
     ]
    },
    {
     "data": {
      "text/plain": [
       "AIMessage(content='我喜欢编程。 (Wǒ xǐhuān biānchéng.)', additional_kwargs={})"
      ]
     },
     "execution_count": 6,
     "metadata": {},
     "output_type": "execute_result"
    }
   ],
   "source": [
    "with get_openai_callback() as cb:\n",
    "    response = model(\n",
    "        [\n",
    "            HumanMessage(\n",
    "                content=\"Translate this sentence from English to Chinese. I love programming.\"\n",
    "            )\n",
    "        ]\n",
    "    )\n",
    "    print(f\"Total Cost (USD): ${format(cb.total_cost, '.6f')}\") # without specifying the model version, flat-rate 0.002 USD per 1k input and output tokens is used\n",
    "\n",
    "response"
   ]
  },
  {
   "cell_type": "markdown",
   "id": "26f52059",
   "metadata": {},
   "source": [
    "## LangChain with OpenAI API\n",
    "\n",
    "- [Quickstart - Deploy a model and generate text using Azure OpenAI Service - Azure OpenAI | Microsoft Learn](https://learn.microsoft.com/en-us/azure/ai-services/openai/quickstart?tabs=command-line&pivots=programming-language-python)"
   ]
  },
  {
   "cell_type": "code",
   "execution_count": 7,
   "id": "1b4ad9eb",
   "metadata": {
    "ExecuteTime": {
     "end_time": "2023-10-15T07:03:42.290012Z",
     "start_time": "2023-10-15T07:03:41.315402Z"
    }
   },
   "outputs": [
    {
     "data": {
      "text/plain": [
       "<OpenAIObject chat.completion id=chatcmpl-89pS0ECNPW0RkvC4xqrmu2AfWjsnp at 0x1cb287b52b0> JSON: {\n",
       "  \"choices\": [\n",
       "    {\n",
       "      \"finish_reason\": \"stop\",\n",
       "      \"index\": 0,\n",
       "      \"message\": {\n",
       "        \"content\": \"The 2020 World Series was played at Globe Life Field in Arlington, Texas.\",\n",
       "        \"role\": \"assistant\"\n",
       "      }\n",
       "    }\n",
       "  ],\n",
       "  \"created\": 1697353420,\n",
       "  \"id\": \"chatcmpl-89pS0ECNPW0RkvC4xqrmu2AfWjsnp\",\n",
       "  \"model\": \"gpt-35-turbo-16k\",\n",
       "  \"object\": \"chat.completion\",\n",
       "  \"usage\": {\n",
       "    \"completion_tokens\": 17,\n",
       "    \"prompt_tokens\": 53,\n",
       "    \"total_tokens\": 70\n",
       "  }\n",
       "}"
      ]
     },
     "execution_count": 7,
     "metadata": {},
     "output_type": "execute_result"
    }
   ],
   "source": [
    "import requests\n",
    "import json\n",
    "import openai\n",
    "\n",
    "openai.api_key = os.getenv(\"AZURE_OPENAI_KEY\")\n",
    "openai.api_base = os.getenv(\"AZURE_OPENAI_ENDPOINT\") # your endpoint should look like the following https://YOUR_RESOURCE_NAME.openai.azure.com/\n",
    "openai.api_type = 'azure'\n",
    "openai.api_version = '2023-05-15' # this may change in the future\n",
    "\n",
    "deployment_name = os.getenv(\"AZURE_OPENAI_DEPLOYMENT_NAME\") #This will correspond to the custom name you chose for your deployment when you deployed a model. \n",
    "\n",
    "response = openai.ChatCompletion.create(\n",
    "    model=\"gpt-3.5-turbo\",\n",
    "    engine=deployment_name,\n",
    "    messages=[\n",
    "        {\"role\": \"system\", \"content\": \"You are a helpful assistant.\"},\n",
    "        {\"role\": \"user\", \"content\": \"Who won the world series in 2020?\"},\n",
    "        {\"role\": \"assistant\", \"content\": \"The Los Angeles Dodgers won the World Series in 2020.\"},\n",
    "        {\"role\": \"user\", \"content\": \"Where was it played?\"}\n",
    "    ]\n",
    ")\n",
    "response"
   ]
  },
  {
   "cell_type": "code",
   "execution_count": null,
   "id": "239911d3",
   "metadata": {},
   "outputs": [],
   "source": []
  }
 ],
 "metadata": {
  "kernelspec": {
   "display_name": "Python 3 (ipykernel)",
   "language": "python",
   "name": "python3"
  },
  "language_info": {
   "codemirror_mode": {
    "name": "ipython",
    "version": 3
   },
   "file_extension": ".py",
   "mimetype": "text/x-python",
   "name": "python",
   "nbconvert_exporter": "python",
   "pygments_lexer": "ipython3",
   "version": "3.10.11"
  }
 },
 "nbformat": 4,
 "nbformat_minor": 5
}
