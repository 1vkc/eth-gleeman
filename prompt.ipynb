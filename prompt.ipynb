{
 "cells": [
  {
   "cell_type": "markdown",
   "id": "4b85fea0",
   "metadata": {
    "ExecuteTime": {
     "end_time": "2023-10-14T05:26:45.545039Z",
     "start_time": "2023-10-14T05:26:45.537313Z"
    }
   },
   "source": [
    "## Example\n",
    "\n",
    "```\n",
    "0x983d397c1845c9361ab66ee356f1ee2df42e4812, 0x77edae6a5f332605720688c7fda7476476e8f83f, 0x0938b20b\n",
    "0x77edae6a5f332605720688c7fda7476476e8f83f, 0xdcf63a49f5938fd3b673271015ecf1aa3a2ef154, 0x9cb2dade\n",
    "0x77edae6a5f332605720688c7fda7476476e8f83f, 0x02f0dbce79117c6a99094d12033475e6f2ea51f5, transferFrom, {'sender': '0x983D397c1845c9361ab66ee356F1Ee2Df42e4812', 'recipient': '0xEb8fB785c116Ebe1517927275dB050a8E583F7F7', 'amount': 248088055175560597542440}\n",
    "0x77edae6a5f332605720688c7fda7476476e8f83f, 0xeb8fb785c116ebe1517927275db050a8e583f7f7, swap, {'amount0Out': 0, 'amount1Out': 27379708648640084, 'to': '0x77EDAE6A5f332605720688C7Fda7476476e8f83f', 'data': b''}\n",
    "0xeb8fb785c116ebe1517927275db050a8e583f7f7, 0xc02aaa39b223fe8d0a0e5c4f27ead9083c756cc2, transfer, {'recipient': '0x77EDAE6A5f332605720688C7Fda7476476e8f83f', 'amount': 27379708648640084}\n",
    "0x77edae6a5f332605720688c7fda7476476e8f83f, 0xc02aaa39b223fe8d0a0e5c4f27ead9083c756cc2, transfer, {'recipient': '0xdCf63a49f5938Fd3B673271015ecF1aA3a2eF154', 'amount': 27379708648640084}\n",
    "0x77edae6a5f332605720688c7fda7476476e8f83f, 0xdcf63a49f5938fd3b673271015ecf1aa3a2ef154, withdraw, {'receiver': '0xC02aaA39b223FE8D0A0e5C4F27eAD9083C756Cc2', 'amount': 27379708648640084}\n",
    "0xdcf63a49f5938fd3b673271015ecf1aa3a2ef154, 0xc02aaa39b223fe8d0a0e5c4f27ead9083c756cc2, withdraw, {'_amount': 27379708648640084}\n",
    "```"
   ]
  },
  {
   "cell_type": "markdown",
   "id": "33a48f5a",
   "metadata": {},
   "source": [
    "## Step 1: Translate each function calls"
   ]
  },
  {
   "cell_type": "code",
   "execution_count": 21,
   "id": "b92309dc",
   "metadata": {
    "ExecuteTime": {
     "end_time": "2023-10-14T05:58:17.471939Z",
     "start_time": "2023-10-14T05:58:17.463144Z"
    }
   },
   "outputs": [
    {
     "name": "stdout",
     "output_type": "stream",
     "text": [
      "We want to get a simplified summary of the series of function calls. Please return the summary only.\n"
     ]
    }
   ],
   "source": [
    "initial_prompt = 'We want to get a simplified summary of the series of function calls. Please return the summary only.'\n",
    "print(initial_prompt)"
   ]
  },
  {
   "cell_type": "code",
   "execution_count": 22,
   "id": "3e482b7f",
   "metadata": {
    "ExecuteTime": {
     "end_time": "2023-10-14T06:00:09.486437Z",
     "start_time": "2023-10-14T06:00:09.477910Z"
    }
   },
   "outputs": [],
   "source": [
    "# Normalized Calls: Explanation\n",
    "normalized_calls = {\n",
    "    '[]A.Unknown_Funcion_A()': 'unknown function',\n",
    "    '[A.Unknown_Funcion_A].B.TransferFrom(sender=David, recipient=B, amount=799.86)'\n",
    "    '[A.Unknown_Funcion_A;B.TransferFrom].C.SWAP(sender=David, recipient=Hanru, amount=799.86)': 'swap 799.86 from David to Hanru',\n",
    "    '[A.Unknown_Funcion_A;B.SWAP].ERC20.transfer(recipient=Hanru, amount=799.86)': 'transfer 799.86 to Hanru',\n",
    "    '[A.Unknown_Funcion_A;B.SWAP].ERC20.transfer(recipient=David, amount=799.86)': 'transfer 799.86 to David',\n",
    "}"
   ]
  },
  {
   "cell_type": "code",
   "execution_count": null,
   "id": "45b2c079",
   "metadata": {},
   "outputs": [],
   "source": [
    "# Normalized Calls: Explanation\n",
    "normalized_calls = {\n",
    "    '[]A.Unknown_Funcion_A()': 'unknown function',\n",
    "    '[A.Unknown_Funcion_A].B.TransferFrom(sender=David, recipient=B, amount=799.86)'\n",
    "    '[B.TransferFrom].C.SWAP(sender=David, recipient=Hanru, amount=799.86)': 'swap 799.86 from David to Hanru',\n",
    "    '[A.Unknown_Funcion_A;B.SWAP].ERC20.transfer(recipient=Hanru, amount=799.86)': 'transfer 799.86 to Hanru',\n",
    "    '[A.Unknown_Funcion_A;B.SWAP].ERC20.transfer(recipient=David, amount=799.86)': 'transfer 799.86 to David',\n",
    "}"
   ]
  },
  {
   "cell_type": "code",
   "execution_count": 23,
   "id": "53a521c6",
   "metadata": {
    "ExecuteTime": {
     "end_time": "2023-10-14T06:00:09.633017Z",
     "start_time": "2023-10-14T06:00:09.623770Z"
    }
   },
   "outputs": [
    {
     "name": "stdout",
     "output_type": "stream",
     "text": [
      "There are examples of normalized function calls with \"function => meaning\"\n",
      "[]A.Unknown_Funcion_A() => unknown function\n",
      "[A.Unknown_Funcion_A].B.SWAP(sender=David, recipient=Hanru, amount=799.86) => swap 799.86 from David to Hanru\n",
      "[A.Unknown_Funcion_A;B.SWAP].ERC20.transfer(recipient=Hanru, amount=799.86) => transfer 799.86 to Hanru\n",
      "[A.Unknown_Funcion_A;B.SWAP].ERC20.transfer(recipient=David, amount=799.86) => transfer 799.86 to David\n"
     ]
    }
   ],
   "source": [
    "function_explaination_example = 'There are examples of normalized function calls with \"function => meaning\"\\n' + '\\n'.join([f'{call} => {explain}' for call, explain in normalized_calls.items()])\n",
    "print(function_explaination_example)"
   ]
  },
  {
   "cell_type": "code",
   "execution_count": 24,
   "id": "fdf2cf11",
   "metadata": {
    "ExecuteTime": {
     "end_time": "2023-10-14T06:00:09.741895Z",
     "start_time": "2023-10-14T06:00:09.734550Z"
    }
   },
   "outputs": [
    {
     "name": "stdout",
     "output_type": "stream",
     "text": [
      "There is the example of summary from raw normalized function calls and possible explination to final summary\n",
      "\n",
      "We have raw normalized function calls:\n",
      "[]A.Unknown_Funcion_A()\n",
      "[A.Unknown_Funcion_A].B.SWAP(sender=David, recipient=Hanru, amount=799.86)\n",
      "[A.Unknown_Funcion_A;B.SWAP].ERC20.transfer(recipient=Hanru, amount=799.86)\n",
      "[A.Unknown_Funcion_A;B.SWAP].ERC20.transfer(recipient=David, amount=799.86)\n",
      "\n",
      "We have possible explinations:\n",
      "unknown function\n",
      "swap 799.86 from David to Hanru\n",
      "transfer 799.86 to Hanru\n",
      "transfer 799.86 to David\n",
      "\n",
      "The entire operation might does \"Swapping 799.86 from David to Hanru\"\n"
     ]
    }
   ],
   "source": [
    "total_summary = 'There is the example of summary from raw normalized function calls and possible explination to final summary\\n\\n' + \\\n",
    "    'We have raw normalized function calls:\\n' + '\\n'.join(normalized_calls.keys()) + '\\n\\n' + \\\n",
    "    'We have possible explinations:\\n' + '\\n'.join(normalized_calls.values()) + '\\n\\n' + \\\n",
    "    'The entire operation might does \"Swapping 799.86 from David to Hanru\"'\n",
    "print(total_summary)"
   ]
  },
  {
   "cell_type": "code",
   "execution_count": 25,
   "id": "6181e877",
   "metadata": {
    "ExecuteTime": {
     "end_time": "2023-10-14T06:00:09.858726Z",
     "start_time": "2023-10-14T06:00:09.852726Z"
    }
   },
   "outputs": [
    {
     "name": "stdout",
     "output_type": "stream",
     "text": [
      "The function calls are represented as `[parents.function].object.function(parameters=values)`.\n"
     ]
    }
   ],
   "source": [
    "function_definition = 'The function calls are represented as `[parents.function].object.function(parameters=values)`.' # Which [A.B].C is [A].B \\'s child.'\n",
    "print(function_definition)"
   ]
  },
  {
   "cell_type": "code",
   "execution_count": 26,
   "id": "ef64f76b",
   "metadata": {
    "ExecuteTime": {
     "end_time": "2023-10-14T06:02:30.653431Z",
     "start_time": "2023-10-14T06:02:30.647825Z"
    }
   },
   "outputs": [],
   "source": [
    "test_example = [\n",
    "    '[]A.Unknown_Funcion_A()',\n",
    "    '[A.Unknown_Funcion_A].B.SWAP(sender=Han, recipient=Jessica, amount=60)',\n",
    "    '[A.Unknown_Funcion_A;B.SWAP].ERC20.transfer(recipient=Han, amount=60)',\n",
    "    '[A.Unknown_Funcion_A;B.SWAP].ERC20.transfer(recipient=Jessica, amount=60)',\n",
    "]"
   ]
  },
  {
   "cell_type": "code",
   "execution_count": 28,
   "id": "d9b65937",
   "metadata": {
    "ExecuteTime": {
     "end_time": "2023-10-14T06:04:04.084290Z",
     "start_time": "2023-10-14T06:04:04.076315Z"
    }
   },
   "outputs": [
    {
     "name": "stdout",
     "output_type": "stream",
     "text": [
      "Translate the following normalized function call to explanations:\n",
      "[]A.Unknown_Funcion_A()\n",
      "[A.Unknown_Funcion_A].B.SWAP(sender=Han, recipient=Jessica, amount=60)\n",
      "[A.Unknown_Funcion_A;B.SWAP].ERC20.transfer(recipient=Han, amount=60)\n",
      "[A.Unknown_Funcion_A;B.SWAP].ERC20.transfer(recipient=Jessica, amount=60)\n"
     ]
    }
   ],
   "source": [
    "print('Translate the following normalized function call to explanations:\\n' + '\\n'.join(test_example))"
   ]
  },
  {
   "cell_type": "markdown",
   "id": "6b78b0f3",
   "metadata": {},
   "source": [
    "## Step 2: Summary explanations"
   ]
  },
  {
   "cell_type": "code",
   "execution_count": 33,
   "id": "ad561ad6",
   "metadata": {
    "ExecuteTime": {
     "end_time": "2023-10-14T07:41:57.463673Z",
     "start_time": "2023-10-14T07:41:57.455675Z"
    }
   },
   "outputs": [
    {
     "name": "stdout",
     "output_type": "stream",
     "text": [
      "Here are the meanings for the provided normalized function calls:\n",
      "\n",
      "1. []A.Unknown_Funcion_A() => Unknown function\n",
      "\n",
      "2. [A.Unknown_Funcion_A].B.Unknown_Function_B() => Unknown function in the context of B\n",
      "\n",
      "3. [A.Unknown_Funcion_A;B.SWAP].ERC20.transfer(recipient=Han, amount=60) => Transfer 60 to Han in the context of SWAP within A\n",
      "\n",
      "4. [A.Unknown_Funcion_A;B.SWAP].ERC20.transfer(recipient=Jessica, amount=60) => Transfer 60 to Jessica in the context of SWAP within A\n",
      "\n",
      "\n",
      "Which might means we SWAP 60 between Han and Jessica.\n",
      "\n"
     ]
    }
   ],
   "source": [
    "explination = '''Here are the meanings for the provided normalized function calls:\n",
    "\n",
    "1. []A.Unknown_Funcion_A() => Unknown function\n",
    "\n",
    "2. [A.Unknown_Funcion_A].B.Unknown_Function_B() => Unknown function in the context of B\n",
    "\n",
    "3. [A.Unknown_Funcion_A;B.SWAP].ERC20.transfer(recipient=Han, amount=60) => Transfer 60 to Han in the context of SWAP within A\n",
    "\n",
    "4. [A.Unknown_Funcion_A;B.SWAP].ERC20.transfer(recipient=Jessica, amount=60) => Transfer 60 to Jessica in the context of SWAP within A\n",
    "\n",
    "\n",
    "Which might means we SWAP 60 between Han and Jessica.\n",
    "'''\n",
    "\n",
    "print(explination)"
   ]
  },
  {
   "cell_type": "code",
   "execution_count": 34,
   "id": "238cab2f",
   "metadata": {
    "ExecuteTime": {
     "end_time": "2023-10-14T07:47:03.325331Z",
     "start_time": "2023-10-14T07:47:03.318143Z"
    }
   },
   "outputs": [
    {
     "name": "stdout",
     "output_type": "stream",
     "text": [
      "Here are the meanings for the provided normalized function calls:\n",
      "\n",
      "1. []A.Unknown_Funcion_A() => unknown function\n",
      "\n",
      "2. [A.Unknown_Funcion_A].B.SWAP(sender=David, recipient=Hanru, amount=799.86) => swap 799.86 from David to Hanru\n",
      "\n",
      "3. [A.Unknown_Funcion_A;B.SWAP].ERC20.transfer(recipient=Hanru, amount=799.86) => transfer 799.86 to Hanru\n",
      "\n",
      "4. [A.Unknown_Funcion_A;B.SWAP].ERC20.transfer(recipient=David, amount=799.86) => transfer 799.86 to David\n",
      "\n",
      "What might these calls means?\n",
      "\n"
     ]
    }
   ],
   "source": [
    "to_ask = '''Here are the meanings for the provided normalized function calls:\n",
    "\n",
    "1. []A.Unknown_Funcion_A() => unknown function\n",
    "\n",
    "2. [A.Unknown_Funcion_A].B.SWAP(sender=David, recipient=Hanru, amount=799.86) => swap 799.86 from David to Hanru\n",
    "\n",
    "3. [A.Unknown_Funcion_A;B.SWAP].ERC20.transfer(recipient=Hanru, amount=799.86) => transfer 799.86 to Hanru\n",
    "\n",
    "4. [A.Unknown_Funcion_A;B.SWAP].ERC20.transfer(recipient=David, amount=799.86) => transfer 799.86 to David\n",
    "\n",
    "What might these calls means?\n",
    "'''\n",
    "\n",
    "print(to_ask)"
   ]
  },
  {
   "cell_type": "markdown",
   "id": "104a994c",
   "metadata": {},
   "source": [
    "---"
   ]
  },
  {
   "cell_type": "code",
   "execution_count": null,
   "id": "bc543de0",
   "metadata": {},
   "outputs": [],
   "source": []
  }
 ],
 "metadata": {
  "kernelspec": {
   "display_name": "Python 3 (ipykernel)",
   "language": "python",
   "name": "python3"
  },
  "language_info": {
   "codemirror_mode": {
    "name": "ipython",
    "version": 3
   },
   "file_extension": ".py",
   "mimetype": "text/x-python",
   "name": "python",
   "nbconvert_exporter": "python",
   "pygments_lexer": "ipython3",
   "version": "3.10.11"
  }
 },
 "nbformat": 4,
 "nbformat_minor": 5
}
