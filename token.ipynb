{
 "cells": [
  {
   "cell_type": "code",
   "execution_count": 1,
   "metadata": {},
   "outputs": [
    {
     "name": "stdout",
     "output_type": "stream",
     "text": [
      "<chain.token.SingleToken object at 0x10cab51f0>\n"
     ]
    }
   ],
   "source": [
    "from chain.token import TokenProvider\n",
    "\n",
    "fetcher = TokenProvider()\n",
    "\n",
    "token = fetcher.erc20(\"0xc02aaa39b223fe8d0a0e5c4f27ead9083c756cc2\")\n",
    "print(token.address,token.decimals,token.symbol)"
   ]
  }
 ],
 "metadata": {
  "kernelspec": {
   "display_name": "Python 3",
   "language": "python",
   "name": "python3"
  },
  "language_info": {
   "codemirror_mode": {
    "name": "ipython",
    "version": 3
   },
   "file_extension": ".py",
   "mimetype": "text/x-python",
   "name": "python",
   "nbconvert_exporter": "python",
   "pygments_lexer": "ipython3",
   "version": "3.8.10"
  },
  "orig_nbformat": 4
 },
 "nbformat": 4,
 "nbformat_minor": 2
}
